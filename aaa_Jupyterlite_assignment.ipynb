{
  "nbformat": 4,
  "nbformat_minor": 0,
  "metadata": {
    "colab": {
      "provenance": []
    },
    "kernelspec": {
      "name": "python3",
      "display_name": "Python 3"
    },
    "language_info": {
      "name": "python"
    }
  },
  "cells": [
    {
      "cell_type": "markdown",
      "source": [
        "# AAA First Notebook"
      ],
      "metadata": {
        "id": "z3FwjUeoFUVT"
      }
    },
    {
      "cell_type": "markdown",
      "source": [
        "## Introduction\n",
        "\n",
        "This notebook showcases my Jupyterlite asssignment\n"
      ],
      "metadata": {
        "id": "mxWTRfW_FbLE"
      }
    },
    {
      "cell_type": "markdown",
      "source": [
        "## List of Data Science Languages\n",
        "\n",
        "1. Python\n",
        "2. R\n",
        "3. SQL\n",
        "4. Scala\n",
        "5. Java\n",
        "6. C++\n",
        "7. Julia"
      ],
      "metadata": {
        "id": "5l7GtTQSFlzT"
      }
    },
    {
      "cell_type": "markdown",
      "source": [
        "## List of Data Science Libraries\n",
        "\n",
        "1. Panda\n",
        "2. NumPy\n",
        "3. Scikit-learn\n",
        "4. Seaborn\n",
        "5. Matplotlib"
      ],
      "metadata": {
        "id": "6HPSsbNJF6V8"
      }
    },
    {
      "cell_type": "markdown",
      "source": [
        "### Table of Categories of Data Science Tools with Examples\n",
        "\n",
        "| Category of Data Science Tool       | Example        |\n",
        "|-------------------------------------|----------------|\n",
        "| Data Management                     | MySQL          |\n",
        "| Data Integration and Transformation | Apache Airflow |\n",
        "| Data Visualisation                  | Tableau        |\n",
        "| Model Building                      | R              |\n",
        "| Model Deployment                    | KubeFlow       |\n",
        "| Model Monitoring and Assessment     | Prometheus     |"
      ],
      "metadata": {
        "id": "n2IJYutBF81M"
      }
    },
    {
      "cell_type": "markdown",
      "source": [
        "### Arithmetic Expression Examples\n",
        "\n",
        "- **Addition (+)** → e.g., `5 + 3 = 8`  \n",
        "- **Subtraction (-)** → e.g., `9 - 2 = 7`  \n",
        "- **Multiplication (*)** → e.g., `5 * 2 = 10`  \n",
        "- **Division (/)** → e.g., `6 / 3 = 2.0`  \n",
        "- **Exponentiation (**)** → e.g., `3 ** 3 = 27`  "
      ],
      "metadata": {
        "id": "Eb3Rva8cGC6O"
      }
    },
    {
      "cell_type": "code",
      "source": [
        "# Multiplication\n",
        "multiply_result = 3 * 6\n",
        "print(\"3 * 6 =\", multiply_result)\n",
        "\n",
        "# Addition\n",
        "add_result = 12 + 14\n",
        "print(\"12 + 14 =\", add_result)"
      ],
      "metadata": {
        "colab": {
          "base_uri": "https://localhost:8080/"
        },
        "id": "gAuU_i1qGOeS",
        "outputId": "7beb6fe0-8b51-4fea-e486-d1d9ac1ce9fb"
      },
      "execution_count": 3,
      "outputs": [
        {
          "output_type": "stream",
          "name": "stdout",
          "text": [
            "3 * 6 = 18\n",
            "12 + 14 = 26\n"
          ]
        }
      ]
    },
    {
      "cell_type": "code",
      "source": [
        "# Convert minutes to hours\n",
        "\n",
        "minutes = 195\n",
        "hours = minutes / 60\n",
        "\n",
        "print(minutes, \"minutes is equal to\", hours, \"hours\")"
      ],
      "metadata": {
        "colab": {
          "base_uri": "https://localhost:8080/"
        },
        "id": "XK720CUzGPKx",
        "outputId": "70a05eb1-ea93-4afd-c508-0e675f8d7f15"
      },
      "execution_count": 4,
      "outputs": [
        {
          "output_type": "stream",
          "name": "stdout",
          "text": [
            "195 minutes is equal to 3.25 hours\n"
          ]
        }
      ]
    },
    {
      "cell_type": "markdown",
      "source": [
        "### List of my Objectives in this Assignment\n",
        "\n",
        "- To create a markdown cell with the title of the notebook\n",
        "- To create a markdown cell for an introduction\n",
        "- To create a markdown cell to list data science languages\n",
        "- To create a markdown cell to list data science libraries\n",
        "- To create a markdown cell with a table of Data Science tools\n",
        "- To create a markdown cell introducing arithmetic expression examples\n",
        "- To create a code cell to multiply and add numbers\n",
        "- To create a code cell to convert minutes to hours\n",
        "- To create a markdown cell introducing Create a markdown cell to indicate the Author’s name\n",
        "- To share my notebook through GitHub\n",
        "- To take a screenshot of the first page of the notebook"
      ],
      "metadata": {
        "id": "JRGwSOV9Gao6"
      }
    },
    {
      "cell_type": "markdown",
      "source": [
        "## Author\n",
        "\n",
        "**Name:** Ayomide Anthony Adeyemi  \n",
        "**Date:** August 30, 2025"
      ],
      "metadata": {
        "id": "65AytmAzGhF1"
      }
    }
  ]
}